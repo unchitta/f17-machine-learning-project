{
 "cells": [
  {
   "cell_type": "markdown",
   "metadata": {},
   "source": [
    "# K-Nearest Neighbor with Sklearn and Custom Distance Metric"
   ]
  },
  {
   "cell_type": "code",
   "execution_count": 14,
   "metadata": {
    "collapsed": true
   },
   "outputs": [],
   "source": [
    "import numpy as np # imports a fast numerical programming library\n",
    "import scipy as sp #imports stats functions, amongst other things\n",
    "import matplotlib as mpl # this actually imports matplotlib\n",
    "import matplotlib.cm as cm #allows us easy access to colormaps\n",
    "import matplotlib.pyplot as plt #sets up plotting under plt\n",
    "import pandas as pd #lets us handle data as dataframes\n",
    "#sets up pandas table display\n",
    "pd.set_option('display.width', 500)\n",
    "pd.set_option('display.max_columns', 100)\n",
    "pd.set_option('display.notebook_repr_html', True)\n",
    "import seaborn as sns #sets up styles and gives us more plotting options\n",
    "\n",
    "pd.set_option('display.float_format', lambda x: '%.2f' % x)"
   ]
  },
  {
   "cell_type": "code",
   "execution_count": 2,
   "metadata": {
    "collapsed": false
   },
   "outputs": [
    {
     "data": {
      "text/html": [
       "<div>\n",
       "<table border=\"1\" class=\"dataframe\">\n",
       "  <thead>\n",
       "    <tr style=\"text-align: right;\">\n",
       "      <th></th>\n",
       "      <th>price</th>\n",
       "      <th>sq ft (living)</th>\n",
       "      <th>sq ft (lot)</th>\n",
       "      <th>bd</th>\n",
       "      <th>ba</th>\n",
       "      <th>year built</th>\n",
       "      <th>year renov</th>\n",
       "      <th>stories</th>\n",
       "      <th>rooms</th>\n",
       "      <th>address</th>\n",
       "    </tr>\n",
       "  </thead>\n",
       "  <tbody>\n",
       "    <tr>\n",
       "      <th>0</th>\n",
       "      <td>998888</td>\n",
       "      <td>1333</td>\n",
       "      <td>164</td>\n",
       "      <td>2</td>\n",
       "      <td>2</td>\n",
       "      <td>2008</td>\n",
       "      <td>2009</td>\n",
       "      <td>1</td>\n",
       "      <td>4</td>\n",
       "      <td>38 N Almaden Blvd UNIT 911</td>\n",
       "    </tr>\n",
       "    <tr>\n",
       "      <th>1</th>\n",
       "      <td>550000</td>\n",
       "      <td>852</td>\n",
       "      <td>4809</td>\n",
       "      <td>2</td>\n",
       "      <td>1</td>\n",
       "      <td>1930</td>\n",
       "      <td>0</td>\n",
       "      <td>1</td>\n",
       "      <td>0</td>\n",
       "      <td>255 S 24th St,</td>\n",
       "    </tr>\n",
       "    <tr>\n",
       "      <th>2</th>\n",
       "      <td>1200000</td>\n",
       "      <td>2316</td>\n",
       "      <td>5519</td>\n",
       "      <td>4</td>\n",
       "      <td>3</td>\n",
       "      <td>1901</td>\n",
       "      <td>2016</td>\n",
       "      <td>2</td>\n",
       "      <td>13</td>\n",
       "      <td>755 E Saint James St,</td>\n",
       "    </tr>\n",
       "    <tr>\n",
       "      <th>3</th>\n",
       "      <td>419000</td>\n",
       "      <td>645</td>\n",
       "      <td>1772</td>\n",
       "      <td>1</td>\n",
       "      <td>1</td>\n",
       "      <td>1990</td>\n",
       "      <td>0</td>\n",
       "      <td>1</td>\n",
       "      <td>0</td>\n",
       "      <td>2463 Jubilee Ln</td>\n",
       "    </tr>\n",
       "    <tr>\n",
       "      <th>4</th>\n",
       "      <td>2699000</td>\n",
       "      <td>2723</td>\n",
       "      <td>244807</td>\n",
       "      <td>4</td>\n",
       "      <td>3</td>\n",
       "      <td>1949</td>\n",
       "      <td>1949</td>\n",
       "      <td>1</td>\n",
       "      <td>9</td>\n",
       "      <td>11321 Canon Vista Ave</td>\n",
       "    </tr>\n",
       "    <tr>\n",
       "      <th>5</th>\n",
       "      <td>889000</td>\n",
       "      <td>1553</td>\n",
       "      <td>5000</td>\n",
       "      <td>4</td>\n",
       "      <td>3</td>\n",
       "      <td>1980</td>\n",
       "      <td>1980</td>\n",
       "      <td>1</td>\n",
       "      <td>7</td>\n",
       "      <td>1851 Pine Hollow Cir</td>\n",
       "    </tr>\n",
       "    <tr>\n",
       "      <th>6</th>\n",
       "      <td>675000</td>\n",
       "      <td>1008</td>\n",
       "      <td>5998</td>\n",
       "      <td>3</td>\n",
       "      <td>1</td>\n",
       "      <td>1954</td>\n",
       "      <td>0</td>\n",
       "      <td>1</td>\n",
       "      <td>0</td>\n",
       "      <td>3432 San Pablo Ave</td>\n",
       "    </tr>\n",
       "  </tbody>\n",
       "</table>\n",
       "</div>"
      ],
      "text/plain": [
       "     price  sq ft (living)  sq ft (lot)  bd  ba  year built  year renov  stories  rooms                     address\n",
       "0   998888            1333          164   2   2        2008        2009        1      4  38 N Almaden Blvd UNIT 911\n",
       "1   550000             852         4809   2   1        1930           0        1      0              255 S 24th St,\n",
       "2  1200000            2316         5519   4   3        1901        2016        2     13       755 E Saint James St,\n",
       "3   419000             645         1772   1   1        1990           0        1      0             2463 Jubilee Ln\n",
       "4  2699000            2723       244807   4   3        1949        1949        1      9       11321 Canon Vista Ave\n",
       "5   889000            1553         5000   4   3        1980        1980        1      7        1851 Pine Hollow Cir\n",
       "6   675000            1008         5998   3   1        1954           0        1      0          3432 San Pablo Ave"
      ]
     },
     "execution_count": 2,
     "metadata": {},
     "output_type": "execute_result"
    }
   ],
   "source": [
    "df = pd.read_csv('../data/processed/housing-san-jose-cleaned.csv')\n",
    "df"
   ]
  },
  {
   "cell_type": "code",
   "execution_count": 3,
   "metadata": {
    "collapsed": false
   },
   "outputs": [
    {
     "data": {
      "text/plain": [
       "\"x = x.values.reshape(-1,1)\\nplt.scatter(x,y)\\nplt.xlabel('size (sq ft)')\\nplt.ylabel('price ($)')\\nplt.show()\""
      ]
     },
     "execution_count": 3,
     "metadata": {},
     "output_type": "execute_result"
    }
   ],
   "source": [
    "# define independent and dependent variables\n",
    "\n",
    "x = df[['sq ft (living)','bd']]\n",
    "y = df['price']\n",
    "\n",
    "'''x = x.values.reshape(-1,1)\n",
    "plt.scatter(x,y)\n",
    "plt.xlabel('size (sq ft)')\n",
    "plt.ylabel('price ($)')\n",
    "plt.show()'''\n"
   ]
  },
  {
   "cell_type": "code",
   "execution_count": 4,
   "metadata": {
    "collapsed": false
   },
   "outputs": [
    {
     "data": {
      "text/html": [
       "<div>\n",
       "<table border=\"1\" class=\"dataframe\">\n",
       "  <thead>\n",
       "    <tr style=\"text-align: right;\">\n",
       "      <th></th>\n",
       "      <th>query sq ft (living)</th>\n",
       "      <th>query bd</th>\n",
       "    </tr>\n",
       "  </thead>\n",
       "  <tbody>\n",
       "    <tr>\n",
       "      <th>0</th>\n",
       "      <td>645.000000</td>\n",
       "      <td>1</td>\n",
       "    </tr>\n",
       "    <tr>\n",
       "      <th>1</th>\n",
       "      <td>991.333333</td>\n",
       "      <td>2</td>\n",
       "    </tr>\n",
       "    <tr>\n",
       "      <th>2</th>\n",
       "      <td>1337.666667</td>\n",
       "      <td>1</td>\n",
       "    </tr>\n",
       "    <tr>\n",
       "      <th>3</th>\n",
       "      <td>1684.000000</td>\n",
       "      <td>3</td>\n",
       "    </tr>\n",
       "    <tr>\n",
       "      <th>4</th>\n",
       "      <td>2030.333333</td>\n",
       "      <td>4</td>\n",
       "    </tr>\n",
       "    <tr>\n",
       "      <th>5</th>\n",
       "      <td>2376.666667</td>\n",
       "      <td>3</td>\n",
       "    </tr>\n",
       "    <tr>\n",
       "      <th>6</th>\n",
       "      <td>2723.000000</td>\n",
       "      <td>2</td>\n",
       "    </tr>\n",
       "  </tbody>\n",
       "</table>\n",
       "</div>"
      ],
      "text/plain": [
       "   query sq ft (living)  query bd\n",
       "0            645.000000         1\n",
       "1            991.333333         2\n",
       "2           1337.666667         1\n",
       "3           1684.000000         3\n",
       "4           2030.333333         4\n",
       "5           2376.666667         3\n",
       "6           2723.000000         2"
      ]
     },
     "execution_count": 4,
     "metadata": {},
     "output_type": "execute_result"
    }
   ],
   "source": [
    "# Generate 7 random query points\n",
    "\n",
    "a = np.linspace(df['sq ft (living)'].min(),df['sq ft (living)'].max(),7)\n",
    "b = [1,2,1,3,4,3,2]\n",
    "\n",
    "query_table = {'query sq ft (living)':a,\n",
    "            'query bd':b}\n",
    "x2 = pd.DataFrame(query_table)\n",
    "x2 = x2[['query sq ft (living)','query bd']]\n",
    "\n",
    "x2"
   ]
  },
  {
   "cell_type": "code",
   "execution_count": 5,
   "metadata": {
    "collapsed": false
   },
   "outputs": [],
   "source": [
    "# custom distance function\n",
    "\n",
    "def mydist(x,y):\n",
    "\n",
    "    return 0.5*abs(x[0]-y[0]) + 0.5*abs(x[1]-y[1])*1000\n",
    "\n",
    "    #n = x.shape[0]\n",
    "    #for i in range(n):\n",
    "    #    print(0.5*abs(x.loc[i][0]-y.loc[i][0]) + 0.5*abs(x.loc[i][1]-y.loc[i][1])*1000)\n",
    "\n",
    "#mydist(x,x2)"
   ]
  },
  {
   "cell_type": "code",
   "execution_count": 6,
   "metadata": {
    "collapsed": false
   },
   "outputs": [
    {
     "data": {
      "text/plain": [
       "1333"
      ]
     },
     "execution_count": 6,
     "metadata": {},
     "output_type": "execute_result"
    }
   ],
   "source": [
    "x.loc[0][0]"
   ]
  },
  {
   "cell_type": "code",
   "execution_count": 7,
   "metadata": {
    "collapsed": false
   },
   "outputs": [
    {
     "data": {
      "text/html": [
       "<div>\n",
       "<table border=\"1\" class=\"dataframe\">\n",
       "  <thead>\n",
       "    <tr style=\"text-align: right;\">\n",
       "      <th></th>\n",
       "      <th>sq ft (living)</th>\n",
       "      <th>bd</th>\n",
       "    </tr>\n",
       "  </thead>\n",
       "  <tbody>\n",
       "    <tr>\n",
       "      <th>0</th>\n",
       "      <td>1333</td>\n",
       "      <td>2</td>\n",
       "    </tr>\n",
       "    <tr>\n",
       "      <th>1</th>\n",
       "      <td>852</td>\n",
       "      <td>2</td>\n",
       "    </tr>\n",
       "    <tr>\n",
       "      <th>2</th>\n",
       "      <td>2316</td>\n",
       "      <td>4</td>\n",
       "    </tr>\n",
       "    <tr>\n",
       "      <th>3</th>\n",
       "      <td>645</td>\n",
       "      <td>1</td>\n",
       "    </tr>\n",
       "    <tr>\n",
       "      <th>4</th>\n",
       "      <td>2723</td>\n",
       "      <td>4</td>\n",
       "    </tr>\n",
       "    <tr>\n",
       "      <th>5</th>\n",
       "      <td>1553</td>\n",
       "      <td>4</td>\n",
       "    </tr>\n",
       "    <tr>\n",
       "      <th>6</th>\n",
       "      <td>1008</td>\n",
       "      <td>3</td>\n",
       "    </tr>\n",
       "  </tbody>\n",
       "</table>\n",
       "</div>"
      ],
      "text/plain": [
       "   sq ft (living)  bd\n",
       "0            1333   2\n",
       "1             852   2\n",
       "2            2316   4\n",
       "3             645   1\n",
       "4            2723   4\n",
       "5            1553   4\n",
       "6            1008   3"
      ]
     },
     "execution_count": 7,
     "metadata": {},
     "output_type": "execute_result"
    }
   ],
   "source": [
    "x"
   ]
  },
  {
   "cell_type": "code",
   "execution_count": 23,
   "metadata": {
    "collapsed": false
   },
   "outputs": [
    {
     "data": {
      "text/html": [
       "<div>\n",
       "<table border=\"1\" class=\"dataframe\">\n",
       "  <thead>\n",
       "    <tr style=\"text-align: right;\">\n",
       "      <th></th>\n",
       "      <th>0</th>\n",
       "    </tr>\n",
       "  </thead>\n",
       "  <tbody>\n",
       "    <tr>\n",
       "      <th>0</th>\n",
       "      <td>484500.00</td>\n",
       "    </tr>\n",
       "    <tr>\n",
       "      <th>1</th>\n",
       "      <td>774444.00</td>\n",
       "    </tr>\n",
       "    <tr>\n",
       "      <th>2</th>\n",
       "      <td>708944.00</td>\n",
       "    </tr>\n",
       "    <tr>\n",
       "      <th>3</th>\n",
       "      <td>782000.00</td>\n",
       "    </tr>\n",
       "    <tr>\n",
       "      <th>4</th>\n",
       "      <td>1044500.00</td>\n",
       "    </tr>\n",
       "    <tr>\n",
       "      <th>5</th>\n",
       "      <td>1949500.00</td>\n",
       "    </tr>\n",
       "    <tr>\n",
       "      <th>6</th>\n",
       "      <td>774444.00</td>\n",
       "    </tr>\n",
       "  </tbody>\n",
       "</table>\n",
       "</div>"
      ],
      "text/plain": [
       "           0\n",
       "0  484500.00\n",
       "1  774444.00\n",
       "2  708944.00\n",
       "3  782000.00\n",
       "4 1044500.00\n",
       "5 1949500.00\n",
       "6  774444.00"
      ]
     },
     "execution_count": 23,
     "metadata": {},
     "output_type": "execute_result"
    }
   ],
   "source": [
    "# instantiate, fit, and predict using Sklearn KNN Regressor\n",
    "\n",
    "from sklearn.neighbors import KNeighborsRegressor\n",
    "\n",
    "knn = KNeighborsRegressor(n_neighbors=2,metric=mydist)\n",
    "knn.fit(x,y)\n",
    "preds=pd.DataFrame(knn.predict(x2))\n",
    "preds"
   ]
  },
  {
   "cell_type": "code",
   "execution_count": 24,
   "metadata": {
    "collapsed": false
   },
   "outputs": [
    {
     "data": {
      "text/html": [
       "<div>\n",
       "<table border=\"1\" class=\"dataframe\">\n",
       "  <thead>\n",
       "    <tr style=\"text-align: right;\">\n",
       "      <th></th>\n",
       "      <th>sq ft (living)</th>\n",
       "      <th>bd</th>\n",
       "      <th>price</th>\n",
       "      <th>query sq ft (living)</th>\n",
       "      <th>query bd</th>\n",
       "      <th>predicted price ($)</th>\n",
       "    </tr>\n",
       "  </thead>\n",
       "  <tbody>\n",
       "    <tr>\n",
       "      <th>0</th>\n",
       "      <td>1333</td>\n",
       "      <td>2</td>\n",
       "      <td>998888</td>\n",
       "      <td>645.00</td>\n",
       "      <td>1</td>\n",
       "      <td>484500.00</td>\n",
       "    </tr>\n",
       "    <tr>\n",
       "      <th>1</th>\n",
       "      <td>852</td>\n",
       "      <td>2</td>\n",
       "      <td>550000</td>\n",
       "      <td>991.33</td>\n",
       "      <td>2</td>\n",
       "      <td>774444.00</td>\n",
       "    </tr>\n",
       "    <tr>\n",
       "      <th>2</th>\n",
       "      <td>2316</td>\n",
       "      <td>4</td>\n",
       "      <td>1200000</td>\n",
       "      <td>1337.67</td>\n",
       "      <td>1</td>\n",
       "      <td>708944.00</td>\n",
       "    </tr>\n",
       "    <tr>\n",
       "      <th>3</th>\n",
       "      <td>645</td>\n",
       "      <td>1</td>\n",
       "      <td>419000</td>\n",
       "      <td>1684.00</td>\n",
       "      <td>3</td>\n",
       "      <td>782000.00</td>\n",
       "    </tr>\n",
       "    <tr>\n",
       "      <th>4</th>\n",
       "      <td>2723</td>\n",
       "      <td>4</td>\n",
       "      <td>2699000</td>\n",
       "      <td>2030.33</td>\n",
       "      <td>4</td>\n",
       "      <td>1044500.00</td>\n",
       "    </tr>\n",
       "    <tr>\n",
       "      <th>5</th>\n",
       "      <td>1553</td>\n",
       "      <td>4</td>\n",
       "      <td>889000</td>\n",
       "      <td>2376.67</td>\n",
       "      <td>3</td>\n",
       "      <td>1949500.00</td>\n",
       "    </tr>\n",
       "    <tr>\n",
       "      <th>6</th>\n",
       "      <td>1008</td>\n",
       "      <td>3</td>\n",
       "      <td>675000</td>\n",
       "      <td>2723.00</td>\n",
       "      <td>2</td>\n",
       "      <td>774444.00</td>\n",
       "    </tr>\n",
       "  </tbody>\n",
       "</table>\n",
       "</div>"
      ],
      "text/plain": [
       "   sq ft (living)  bd    price  query sq ft (living)  query bd  predicted price ($)\n",
       "0            1333   2   998888                645.00         1            484500.00\n",
       "1             852   2   550000                991.33         2            774444.00\n",
       "2            2316   4  1200000               1337.67         1            708944.00\n",
       "3             645   1   419000               1684.00         3            782000.00\n",
       "4            2723   4  2699000               2030.33         4           1044500.00\n",
       "5            1553   4   889000               2376.67         3           1949500.00\n",
       "6            1008   3   675000               2723.00         2            774444.00"
      ]
     },
     "execution_count": 24,
     "metadata": {},
     "output_type": "execute_result"
    }
   ],
   "source": [
    "# generate results table\n",
    "result_table = pd.concat([x,x2,pd.DataFrame(df['price'])],axis=1)\n",
    "result_table['predicted price ($)'] = preds\n",
    "result_table = result_table[['sq ft (living)','bd','price','query sq ft (living)','query bd','predicted price ($)']]\n",
    "result_table"
   ]
  },
  {
   "cell_type": "code",
   "execution_count": null,
   "metadata": {
    "collapsed": true
   },
   "outputs": [],
   "source": []
  }
 ],
 "metadata": {
  "kernelspec": {
   "display_name": "Python 3",
   "language": "python",
   "name": "python3"
  },
  "language_info": {
   "codemirror_mode": {
    "name": "ipython",
    "version": 3
   },
   "file_extension": ".py",
   "mimetype": "text/x-python",
   "name": "python",
   "nbconvert_exporter": "python",
   "pygments_lexer": "ipython3",
   "version": "3.6.0"
  }
 },
 "nbformat": 4,
 "nbformat_minor": 2
}
