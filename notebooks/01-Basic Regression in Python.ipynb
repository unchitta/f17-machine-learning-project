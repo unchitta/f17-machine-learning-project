{
 "cells": [
  {
   "cell_type": "markdown",
   "metadata": {},
   "source": [
    "# Basic Regression in Python"
   ]
  },
  {
   "cell_type": "markdown",
   "metadata": {},
   "source": [
    "To begin exploring machine learning, we start by doing basic regression in Python. The dataset we'll be using here is a small dataset for 7 houses currently on sale in San Jose, CA. \n",
    "\n",
    "**Output:**\n",
    "- correlation coefficient r and the coefficients of the least squares regression line (a and b in y = ax + b). We'll use sq. ft (living) for the independent variable x and price as the dependent variable y."
   ]
  },
  {
   "cell_type": "markdown",
   "metadata": {},
   "source": [
    "## Phase 1: Reading & Cleaning Data"
   ]
  },
  {
   "cell_type": "code",
   "execution_count": 1,
   "metadata": {
    "collapsed": true
   },
   "outputs": [],
   "source": [
    "import numpy as np # imports a fast numerical programming library\n",
    "import scipy as sp #imports stats functions, amongst other things\n",
    "import matplotlib as mpl # this actually imports matplotlib\n",
    "import matplotlib.cm as cm #allows us easy access to colormaps\n",
    "import matplotlib.pyplot as plt #sets up plotting under plt\n",
    "import pandas as pd #lets us handle data as dataframes\n",
    "#sets up pandas table display\n",
    "pd.set_option('display.width', 500)\n",
    "pd.set_option('display.max_columns', 100)\n",
    "pd.set_option('display.notebook_repr_html', True)\n",
    "import seaborn as sns #sets up styles and gives us more plotting options"
   ]
  },
  {
   "cell_type": "code",
   "execution_count": 40,
   "metadata": {
    "collapsed": false
   },
   "outputs": [
    {
     "data": {
      "text/html": [
       "<div>\n",
       "<table border=\"1\" class=\"dataframe\">\n",
       "  <thead>\n",
       "    <tr style=\"text-align: right;\">\n",
       "      <th></th>\n",
       "      <th>price</th>\n",
       "      <th>sq ft (living)</th>\n",
       "      <th>sq ft (lot)</th>\n",
       "      <th>bd</th>\n",
       "      <th>ba</th>\n",
       "      <th>year built</th>\n",
       "      <th>year renov</th>\n",
       "      <th>stories</th>\n",
       "      <th>rooms</th>\n",
       "      <th>Unnamed: 9</th>\n",
       "      <th>address</th>\n",
       "    </tr>\n",
       "  </thead>\n",
       "  <tbody>\n",
       "    <tr>\n",
       "      <th>0</th>\n",
       "      <td>998888</td>\n",
       "      <td>1333</td>\n",
       "      <td>164</td>\n",
       "      <td>2</td>\n",
       "      <td>2.0</td>\n",
       "      <td>2008</td>\n",
       "      <td>2009.0</td>\n",
       "      <td>1</td>\n",
       "      <td>4.0</td>\n",
       "      <td>NaN</td>\n",
       "      <td>38 N Almaden Blvd UNIT 911</td>\n",
       "    </tr>\n",
       "    <tr>\n",
       "      <th>1</th>\n",
       "      <td>550000</td>\n",
       "      <td>852</td>\n",
       "      <td>4809</td>\n",
       "      <td>2</td>\n",
       "      <td>1.0</td>\n",
       "      <td>1930</td>\n",
       "      <td>NaN</td>\n",
       "      <td>1</td>\n",
       "      <td>NaN</td>\n",
       "      <td>NaN</td>\n",
       "      <td>255 S 24th St,</td>\n",
       "    </tr>\n",
       "    <tr>\n",
       "      <th>2</th>\n",
       "      <td>1200000</td>\n",
       "      <td>2316</td>\n",
       "      <td>5519</td>\n",
       "      <td>4</td>\n",
       "      <td>3.5</td>\n",
       "      <td>1901</td>\n",
       "      <td>2016.0</td>\n",
       "      <td>2</td>\n",
       "      <td>13.0</td>\n",
       "      <td>NaN</td>\n",
       "      <td>755 E Saint James St,</td>\n",
       "    </tr>\n",
       "    <tr>\n",
       "      <th>3</th>\n",
       "      <td>419000</td>\n",
       "      <td>645</td>\n",
       "      <td>1772</td>\n",
       "      <td>1</td>\n",
       "      <td>1.0</td>\n",
       "      <td>1990</td>\n",
       "      <td>NaN</td>\n",
       "      <td>1</td>\n",
       "      <td>NaN</td>\n",
       "      <td>NaN</td>\n",
       "      <td>2463 Jubilee Ln</td>\n",
       "    </tr>\n",
       "    <tr>\n",
       "      <th>4</th>\n",
       "      <td>2699000</td>\n",
       "      <td>2723</td>\n",
       "      <td>244807</td>\n",
       "      <td>4</td>\n",
       "      <td>3.0</td>\n",
       "      <td>1949</td>\n",
       "      <td>1949.0</td>\n",
       "      <td>1</td>\n",
       "      <td>9.0</td>\n",
       "      <td>NaN</td>\n",
       "      <td>11321 Canon Vista Ave</td>\n",
       "    </tr>\n",
       "    <tr>\n",
       "      <th>5</th>\n",
       "      <td>889000</td>\n",
       "      <td>1553</td>\n",
       "      <td>5000</td>\n",
       "      <td>4</td>\n",
       "      <td>3.0</td>\n",
       "      <td>1980</td>\n",
       "      <td>1980.0</td>\n",
       "      <td>1</td>\n",
       "      <td>7.0</td>\n",
       "      <td>NaN</td>\n",
       "      <td>1851 Pine Hollow Cir</td>\n",
       "    </tr>\n",
       "    <tr>\n",
       "      <th>6</th>\n",
       "      <td>675000</td>\n",
       "      <td>1008</td>\n",
       "      <td>5998</td>\n",
       "      <td>3</td>\n",
       "      <td>1.0</td>\n",
       "      <td>1954</td>\n",
       "      <td>NaN</td>\n",
       "      <td>1</td>\n",
       "      <td>NaN</td>\n",
       "      <td>NaN</td>\n",
       "      <td>3432 San Pablo Ave</td>\n",
       "    </tr>\n",
       "  </tbody>\n",
       "</table>\n",
       "</div>"
      ],
      "text/plain": [
       "     price  sq ft (living)  sq ft (lot)  bd   ba  year built  year renov  stories  rooms  Unnamed: 9                     address\n",
       "0   998888            1333          164   2  2.0        2008      2009.0        1    4.0         NaN  38 N Almaden Blvd UNIT 911\n",
       "1   550000             852         4809   2  1.0        1930         NaN        1    NaN         NaN              255 S 24th St,\n",
       "2  1200000            2316         5519   4  3.5        1901      2016.0        2   13.0         NaN       755 E Saint James St,\n",
       "3   419000             645         1772   1  1.0        1990         NaN        1    NaN         NaN             2463 Jubilee Ln\n",
       "4  2699000            2723       244807   4  3.0        1949      1949.0        1    9.0         NaN       11321 Canon Vista Ave\n",
       "5   889000            1553         5000   4  3.0        1980      1980.0        1    7.0         NaN        1851 Pine Hollow Cir\n",
       "6   675000            1008         5998   3  1.0        1954         NaN        1    NaN         NaN          3432 San Pablo Ave"
      ]
     },
     "execution_count": 40,
     "metadata": {},
     "output_type": "execute_result"
    }
   ],
   "source": [
    "# read data from csv file\n",
    "\n",
    "data = pd.read_csv('../data/external/housing-san-jose.csv')\n",
    "data"
   ]
  },
  {
   "cell_type": "code",
   "execution_count": 44,
   "metadata": {
    "collapsed": false
   },
   "outputs": [
    {
     "data": {
      "text/plain": [
       "price               int64\n",
       "sq ft (living)      int64\n",
       "sq ft (lot)         int64\n",
       "bd                  int64\n",
       "ba                  int64\n",
       "year built          int64\n",
       "year renov          int64\n",
       "stories             int64\n",
       "rooms               int64\n",
       "Unnamed: 9        float64\n",
       "address            object\n",
       "dtype: object"
      ]
     },
     "execution_count": 44,
     "metadata": {},
     "output_type": "execute_result"
    }
   ],
   "source": [
    "''' Although we know we'll only be working with the first 2 columns in this dataset,\n",
    "it's good practice to do some data cleaning so we'll begin with that'''\n",
    "data.dtypes"
   ]
  },
  {
   "cell_type": "code",
   "execution_count": 45,
   "metadata": {
    "collapsed": false
   },
   "outputs": [
    {
     "name": "stdout",
     "output_type": "stream",
     "text": [
      "price              int64\n",
      "sq ft (living)     int64\n",
      "sq ft (lot)        int64\n",
      "bd                 int64\n",
      "ba                 int64\n",
      "year built         int64\n",
      "year renov         int64\n",
      "stories            int64\n",
      "rooms              int64\n",
      "address           object\n",
      "dtype: object\n"
     ]
    },
    {
     "data": {
      "text/html": [
       "<div>\n",
       "<table border=\"1\" class=\"dataframe\">\n",
       "  <thead>\n",
       "    <tr style=\"text-align: right;\">\n",
       "      <th></th>\n",
       "      <th>price</th>\n",
       "      <th>sq ft (living)</th>\n",
       "      <th>sq ft (lot)</th>\n",
       "      <th>bd</th>\n",
       "      <th>ba</th>\n",
       "      <th>year built</th>\n",
       "      <th>year renov</th>\n",
       "      <th>stories</th>\n",
       "      <th>rooms</th>\n",
       "      <th>address</th>\n",
       "    </tr>\n",
       "  </thead>\n",
       "  <tbody>\n",
       "    <tr>\n",
       "      <th>0</th>\n",
       "      <td>998888</td>\n",
       "      <td>1333</td>\n",
       "      <td>164</td>\n",
       "      <td>2</td>\n",
       "      <td>2</td>\n",
       "      <td>2008</td>\n",
       "      <td>2009</td>\n",
       "      <td>1</td>\n",
       "      <td>4</td>\n",
       "      <td>38 N Almaden Blvd UNIT 911</td>\n",
       "    </tr>\n",
       "    <tr>\n",
       "      <th>1</th>\n",
       "      <td>550000</td>\n",
       "      <td>852</td>\n",
       "      <td>4809</td>\n",
       "      <td>2</td>\n",
       "      <td>1</td>\n",
       "      <td>1930</td>\n",
       "      <td>0</td>\n",
       "      <td>1</td>\n",
       "      <td>0</td>\n",
       "      <td>255 S 24th St,</td>\n",
       "    </tr>\n",
       "    <tr>\n",
       "      <th>2</th>\n",
       "      <td>1200000</td>\n",
       "      <td>2316</td>\n",
       "      <td>5519</td>\n",
       "      <td>4</td>\n",
       "      <td>3</td>\n",
       "      <td>1901</td>\n",
       "      <td>2016</td>\n",
       "      <td>2</td>\n",
       "      <td>13</td>\n",
       "      <td>755 E Saint James St,</td>\n",
       "    </tr>\n",
       "    <tr>\n",
       "      <th>3</th>\n",
       "      <td>419000</td>\n",
       "      <td>645</td>\n",
       "      <td>1772</td>\n",
       "      <td>1</td>\n",
       "      <td>1</td>\n",
       "      <td>1990</td>\n",
       "      <td>0</td>\n",
       "      <td>1</td>\n",
       "      <td>0</td>\n",
       "      <td>2463 Jubilee Ln</td>\n",
       "    </tr>\n",
       "    <tr>\n",
       "      <th>4</th>\n",
       "      <td>2699000</td>\n",
       "      <td>2723</td>\n",
       "      <td>244807</td>\n",
       "      <td>4</td>\n",
       "      <td>3</td>\n",
       "      <td>1949</td>\n",
       "      <td>1949</td>\n",
       "      <td>1</td>\n",
       "      <td>9</td>\n",
       "      <td>11321 Canon Vista Ave</td>\n",
       "    </tr>\n",
       "    <tr>\n",
       "      <th>5</th>\n",
       "      <td>889000</td>\n",
       "      <td>1553</td>\n",
       "      <td>5000</td>\n",
       "      <td>4</td>\n",
       "      <td>3</td>\n",
       "      <td>1980</td>\n",
       "      <td>1980</td>\n",
       "      <td>1</td>\n",
       "      <td>7</td>\n",
       "      <td>1851 Pine Hollow Cir</td>\n",
       "    </tr>\n",
       "    <tr>\n",
       "      <th>6</th>\n",
       "      <td>675000</td>\n",
       "      <td>1008</td>\n",
       "      <td>5998</td>\n",
       "      <td>3</td>\n",
       "      <td>1</td>\n",
       "      <td>1954</td>\n",
       "      <td>0</td>\n",
       "      <td>1</td>\n",
       "      <td>0</td>\n",
       "      <td>3432 San Pablo Ave</td>\n",
       "    </tr>\n",
       "  </tbody>\n",
       "</table>\n",
       "</div>"
      ],
      "text/plain": [
       "     price  sq ft (living)  sq ft (lot)  bd  ba  year built  year renov  stories  rooms                     address\n",
       "0   998888            1333          164   2   2        2008        2009        1      4  38 N Almaden Blvd UNIT 911\n",
       "1   550000             852         4809   2   1        1930           0        1      0              255 S 24th St,\n",
       "2  1200000            2316         5519   4   3        1901        2016        2     13       755 E Saint James St,\n",
       "3   419000             645         1772   1   1        1990           0        1      0             2463 Jubilee Ln\n",
       "4  2699000            2723       244807   4   3        1949        1949        1      9       11321 Canon Vista Ave\n",
       "5   889000            1553         5000   4   3        1980        1980        1      7        1851 Pine Hollow Cir\n",
       "6   675000            1008         5998   3   1        1954           0        1      0          3432 San Pablo Ave"
      ]
     },
     "execution_count": 45,
     "metadata": {},
     "output_type": "execute_result"
    }
   ],
   "source": [
    "# 1. convert 'year renov' and 'rooms', and 'ba' cols to int64 and fill NaNs with 0s\n",
    "# 2. clean 'room' column\n",
    "# 3. remove 'Unnamed 9' column\n",
    "df = data\n",
    "df[['year renov','rooms']] = df[['year renov','rooms']].fillna(0)\n",
    "df[['year renov','rooms']] = df[['year renov','rooms']].astype(int)\n",
    "df['ba'] = df['ba'].astype(int)\n",
    "df = df.drop('Unnamed: 9',axis=1)\n",
    "print(df.dtypes)\n",
    "df"
   ]
  },
  {
   "cell_type": "code",
   "execution_count": 59,
   "metadata": {
    "collapsed": false
   },
   "outputs": [
    {
     "data": {
      "text/plain": [
       "count         7.00\n",
       "mean    1061555.43\n",
       "std      770074.21\n",
       "min      419000.00\n",
       "25%      612500.00\n",
       "50%      889000.00\n",
       "75%     1099444.00\n",
       "max     2699000.00\n",
       "Name: price, dtype: float64"
      ]
     },
     "execution_count": 59,
     "metadata": {},
     "output_type": "execute_result"
    }
   ],
   "source": [
    "pd.set_option('display.float_format', lambda x: '%.2f' % x)\n",
    "df['price'].describe()"
   ]
  },
  {
   "cell_type": "markdown",
   "metadata": {},
   "source": [
    "## Phase 2: Regression"
   ]
  },
  {
   "cell_type": "code",
   "execution_count": 119,
   "metadata": {
    "collapsed": false
   },
   "outputs": [
    {
     "data": {
      "image/png": "[encoded data removed]",
      "text/plain": [
       "<matplotlib.figure.Figure at 0x11130d588>"
      ]
     },
     "metadata": {},
     "output_type": "display_data"
    }
   ],
   "source": [
    "x,y = df['sq ft (living)'],df['price']\n",
    "plt.scatter(x,y)\n",
    "plt.xlabel('size (sq ft)')\n",
    "plt.ylabel('price ($)')\n",
    "plt.show() # there seems to be a linear correlation, which is to be expected"
   ]
  },
  {
   "cell_type": "code",
   "execution_count": 120,
   "metadata": {
    "collapsed": false
   },
   "outputs": [
    {
     "name": "stdout",
     "output_type": "stream",
     "text": [
      "Coefficients:  [ 889.35025621]\n",
      "intercept:  -263576.45318\n",
      "R^2-score:  0.796832524441\n"
     ]
    },
    {
     "data": {
      "image/png": "[encoded data removed]",
      "text/plain": [
       "<matplotlib.figure.Figure at 0x110446128>"
      ]
     },
     "metadata": {},
     "output_type": "display_data"
    }
   ],
   "source": [
    "# sklearn pattern: import, instantiate, fit\n",
    "from sklearn.linear_model import LinearRegression\n",
    "from sklearn.metrics import mean_squared_error, r2_score\n",
    "x = x.values.reshape(-1,1)\n",
    "lm = LinearRegression()\n",
    "lm.fit(x, y)\n",
    "y_preds = lm.predict(x)\n",
    "\n",
    "# The coefficients\n",
    "print('Coefficients: ', lm.coef_)\n",
    "print('intercept: ', lm.intercept_)\n",
    "# R-score\n",
    "print('R^2-score: ', lm.score(x,y))\n",
    "# The mean squared error\n",
    "#print(\"Mean squared error: %.2f\"% mean_squared_error(y_test, y_pred))\n",
    "# Explained variance score: 1 is perfect prediction\n",
    "#print('Variance score: %.2f' % r2_score(y_test, y_pred))\n",
    "plt.scatter(x,y)\n",
    "plt.plot(x,y_preds)\n",
    "plt.show()"
   ]
  },
  {
   "cell_type": "code",
   "execution_count": 100,
   "metadata": {
    "collapsed": false
   },
   "outputs": [
    {
     "data": {
      "text/html": [
       "<div>\n",
       "<table border=\"1\" class=\"dataframe\">\n",
       "  <thead>\n",
       "    <tr style=\"text-align: right;\">\n",
       "      <th></th>\n",
       "      <th>predicted price (y)</th>\n",
       "      <th>size (x)</th>\n",
       "    </tr>\n",
       "  </thead>\n",
       "  <tbody>\n",
       "    <tr>\n",
       "      <th>0</th>\n",
       "      <td>163311.67</td>\n",
       "      <td>480</td>\n",
       "    </tr>\n",
       "    <tr>\n",
       "      <th>1</th>\n",
       "      <td>296714.21</td>\n",
       "      <td>630</td>\n",
       "    </tr>\n",
       "    <tr>\n",
       "      <th>2</th>\n",
       "      <td>403436.24</td>\n",
       "      <td>750</td>\n",
       "    </tr>\n",
       "    <tr>\n",
       "      <th>3</th>\n",
       "      <td>625773.80</td>\n",
       "      <td>1000</td>\n",
       "    </tr>\n",
       "    <tr>\n",
       "      <th>4</th>\n",
       "      <td>921927.44</td>\n",
       "      <td>1333</td>\n",
       "    </tr>\n",
       "    <tr>\n",
       "      <th>5</th>\n",
       "      <td>1048215.17</td>\n",
       "      <td>1475</td>\n",
       "    </tr>\n",
       "    <tr>\n",
       "      <th>6</th>\n",
       "      <td>1959799.19</td>\n",
       "      <td>2500</td>\n",
       "    </tr>\n",
       "    <tr>\n",
       "      <th>7</th>\n",
       "      <td>2226604.26</td>\n",
       "      <td>2800</td>\n",
       "    </tr>\n",
       "  </tbody>\n",
       "</table>\n",
       "</div>"
      ],
      "text/plain": [
       "   predicted price (y)  size (x)\n",
       "0            163311.67       480\n",
       "1            296714.21       630\n",
       "2            403436.24       750\n",
       "3            625773.80      1000\n",
       "4            921927.44      1333\n",
       "5           1048215.17      1475\n",
       "6           1959799.19      2500\n",
       "7           2226604.26      2800"
      ]
     },
     "execution_count": 100,
     "metadata": {},
     "output_type": "execute_result"
    }
   ],
   "source": [
    "size = [480,630,750,1000,1333,1475,2500,2800]\n",
    "x_test = pd.DataFrame({'x_test':size})\n",
    "test_preds = pd.DataFrame({'size (x)': size, 'predicted price (y)': lm.predict(x_test.values.reshape(-1,1))})\n",
    "test_preds"
   ]
  },
  {
   "cell_type": "markdown",
   "metadata": {},
   "source": [
    "**Notes:**\n",
    "- Usually we'd split dataset into train and test group (usually 80:20), but because our data set is very small here I've then created a new test set and perform prediction on the values within that test set.\n",
    "- Regression is a high bias and low-variance model, but this low variance characteristic is generally good when we have small sampling size.\n",
    "- Q: Is this model overfitted or underfitted?"
   ]
  },
  {
   "cell_type": "markdown",
   "metadata": {},
   "source": [
    "### Resources\n",
    "- http://scikit-learn.org/stable/auto_examples/linear_model/plot_ols.html\n",
    "- https://github.com/justmarkham/DAT4/blob/master/notebooks/08_linear_regression.ipynb\n",
    "- http://people.duke.edu/~rnau/regintro.htm\n",
    "- http://pareonline.net/getvn.asp?n=2&v=8\n",
    "- https://machinelearningmastery.com/implement-simple-linear-regression-scratch-python/\n",
    "- https://matplotlib.org/users/pyplot_tutorial.html"
   ]
  },
  {
   "cell_type": "code",
   "execution_count": null,
   "metadata": {
    "collapsed": true
   },
   "outputs": [],
   "source": []
  }
 ],
 "metadata": {
  "kernelspec": {
   "display_name": "Python 3",
   "language": "python",
   "name": "python3"
  },
  "language_info": {
   "codemirror_mode": {
    "name": "ipython",
    "version": 3
   },
   "file_extension": ".py",
   "mimetype": "text/x-python",
   "name": "python",
   "nbconvert_exporter": "python",
   "pygments_lexer": "ipython3",
   "version": "3.6.0"
  }
 },
 "nbformat": 4,
 "nbformat_minor": 2
}
